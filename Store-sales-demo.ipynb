{
 "cells": [
  {
   "cell_type": "code",
   "execution_count": 1,
   "id": "e2533d25-89f3-4d66-9897-77e71d5da7fd",
   "metadata": {},
   "outputs": [
    {
     "data": {
      "text/html": [
       "<div>\n",
       "<style scoped>\n",
       "    .dataframe tbody tr th:only-of-type {\n",
       "        vertical-align: middle;\n",
       "    }\n",
       "\n",
       "    .dataframe tbody tr th {\n",
       "        vertical-align: top;\n",
       "    }\n",
       "\n",
       "    .dataframe thead th {\n",
       "        text-align: right;\n",
       "    }\n",
       "</style>\n",
       "<table border=\"1\" class=\"dataframe\">\n",
       "  <thead>\n",
       "    <tr style=\"text-align: right;\">\n",
       "      <th></th>\n",
       "      <th>Invoice ID</th>\n",
       "      <th>Branch</th>\n",
       "      <th>City</th>\n",
       "      <th>Customer type</th>\n",
       "      <th>Gender</th>\n",
       "      <th>Product line</th>\n",
       "      <th>Unit price</th>\n",
       "      <th>Quantity</th>\n",
       "      <th>Tax 5%</th>\n",
       "      <th>Total</th>\n",
       "      <th>Date</th>\n",
       "      <th>Time</th>\n",
       "      <th>Payment</th>\n",
       "      <th>cogs</th>\n",
       "      <th>gross margin percentage</th>\n",
       "      <th>gross income</th>\n",
       "      <th>Rating</th>\n",
       "    </tr>\n",
       "  </thead>\n",
       "  <tbody>\n",
       "    <tr>\n",
       "      <th>0</th>\n",
       "      <td>750-67-8428</td>\n",
       "      <td>A</td>\n",
       "      <td>Yangon</td>\n",
       "      <td>Member</td>\n",
       "      <td>Female</td>\n",
       "      <td>Health and beauty</td>\n",
       "      <td>74.69</td>\n",
       "      <td>7</td>\n",
       "      <td>26.1415</td>\n",
       "      <td>548.9715</td>\n",
       "      <td>1/5/2019</td>\n",
       "      <td>13:08</td>\n",
       "      <td>Ewallet</td>\n",
       "      <td>522.83</td>\n",
       "      <td>4.761905</td>\n",
       "      <td>26.1415</td>\n",
       "      <td>9.1</td>\n",
       "    </tr>\n",
       "    <tr>\n",
       "      <th>1</th>\n",
       "      <td>226-31-3081</td>\n",
       "      <td>C</td>\n",
       "      <td>Naypyitaw</td>\n",
       "      <td>Normal</td>\n",
       "      <td>Female</td>\n",
       "      <td>Electronic accessories</td>\n",
       "      <td>15.28</td>\n",
       "      <td>5</td>\n",
       "      <td>3.8200</td>\n",
       "      <td>80.2200</td>\n",
       "      <td>3/8/2019</td>\n",
       "      <td>10:29</td>\n",
       "      <td>Cash</td>\n",
       "      <td>76.40</td>\n",
       "      <td>4.761905</td>\n",
       "      <td>3.8200</td>\n",
       "      <td>9.6</td>\n",
       "    </tr>\n",
       "    <tr>\n",
       "      <th>2</th>\n",
       "      <td>631-41-3108</td>\n",
       "      <td>A</td>\n",
       "      <td>Yangon</td>\n",
       "      <td>Normal</td>\n",
       "      <td>Male</td>\n",
       "      <td>Home and lifestyle</td>\n",
       "      <td>46.33</td>\n",
       "      <td>7</td>\n",
       "      <td>16.2155</td>\n",
       "      <td>340.5255</td>\n",
       "      <td>3/3/2019</td>\n",
       "      <td>13:23</td>\n",
       "      <td>Credit card</td>\n",
       "      <td>324.31</td>\n",
       "      <td>4.761905</td>\n",
       "      <td>16.2155</td>\n",
       "      <td>7.4</td>\n",
       "    </tr>\n",
       "    <tr>\n",
       "      <th>3</th>\n",
       "      <td>123-19-1176</td>\n",
       "      <td>A</td>\n",
       "      <td>Yangon</td>\n",
       "      <td>Member</td>\n",
       "      <td>Male</td>\n",
       "      <td>Health and beauty</td>\n",
       "      <td>58.22</td>\n",
       "      <td>8</td>\n",
       "      <td>23.2880</td>\n",
       "      <td>489.0480</td>\n",
       "      <td>1/27/2019</td>\n",
       "      <td>20:33</td>\n",
       "      <td>Ewallet</td>\n",
       "      <td>465.76</td>\n",
       "      <td>4.761905</td>\n",
       "      <td>23.2880</td>\n",
       "      <td>8.4</td>\n",
       "    </tr>\n",
       "    <tr>\n",
       "      <th>4</th>\n",
       "      <td>373-73-7910</td>\n",
       "      <td>A</td>\n",
       "      <td>Yangon</td>\n",
       "      <td>Normal</td>\n",
       "      <td>Male</td>\n",
       "      <td>Sports and travel</td>\n",
       "      <td>86.31</td>\n",
       "      <td>7</td>\n",
       "      <td>30.2085</td>\n",
       "      <td>634.3785</td>\n",
       "      <td>2/8/2019</td>\n",
       "      <td>10:37</td>\n",
       "      <td>Ewallet</td>\n",
       "      <td>604.17</td>\n",
       "      <td>4.761905</td>\n",
       "      <td>30.2085</td>\n",
       "      <td>5.3</td>\n",
       "    </tr>\n",
       "    <tr>\n",
       "      <th>...</th>\n",
       "      <td>...</td>\n",
       "      <td>...</td>\n",
       "      <td>...</td>\n",
       "      <td>...</td>\n",
       "      <td>...</td>\n",
       "      <td>...</td>\n",
       "      <td>...</td>\n",
       "      <td>...</td>\n",
       "      <td>...</td>\n",
       "      <td>...</td>\n",
       "      <td>...</td>\n",
       "      <td>...</td>\n",
       "      <td>...</td>\n",
       "      <td>...</td>\n",
       "      <td>...</td>\n",
       "      <td>...</td>\n",
       "      <td>...</td>\n",
       "    </tr>\n",
       "    <tr>\n",
       "      <th>995</th>\n",
       "      <td>233-67-5758</td>\n",
       "      <td>C</td>\n",
       "      <td>Naypyitaw</td>\n",
       "      <td>Normal</td>\n",
       "      <td>Male</td>\n",
       "      <td>Health and beauty</td>\n",
       "      <td>40.35</td>\n",
       "      <td>1</td>\n",
       "      <td>2.0175</td>\n",
       "      <td>42.3675</td>\n",
       "      <td>1/29/2019</td>\n",
       "      <td>13:46</td>\n",
       "      <td>Ewallet</td>\n",
       "      <td>40.35</td>\n",
       "      <td>4.761905</td>\n",
       "      <td>2.0175</td>\n",
       "      <td>6.2</td>\n",
       "    </tr>\n",
       "    <tr>\n",
       "      <th>996</th>\n",
       "      <td>303-96-2227</td>\n",
       "      <td>B</td>\n",
       "      <td>Mandalay</td>\n",
       "      <td>Normal</td>\n",
       "      <td>Female</td>\n",
       "      <td>Home and lifestyle</td>\n",
       "      <td>97.38</td>\n",
       "      <td>10</td>\n",
       "      <td>48.6900</td>\n",
       "      <td>1022.4900</td>\n",
       "      <td>3/2/2019</td>\n",
       "      <td>17:16</td>\n",
       "      <td>Ewallet</td>\n",
       "      <td>973.80</td>\n",
       "      <td>4.761905</td>\n",
       "      <td>48.6900</td>\n",
       "      <td>4.4</td>\n",
       "    </tr>\n",
       "    <tr>\n",
       "      <th>997</th>\n",
       "      <td>727-02-1313</td>\n",
       "      <td>A</td>\n",
       "      <td>Yangon</td>\n",
       "      <td>Member</td>\n",
       "      <td>Male</td>\n",
       "      <td>Food and beverages</td>\n",
       "      <td>31.84</td>\n",
       "      <td>1</td>\n",
       "      <td>1.5920</td>\n",
       "      <td>33.4320</td>\n",
       "      <td>2/9/2019</td>\n",
       "      <td>13:22</td>\n",
       "      <td>Cash</td>\n",
       "      <td>31.84</td>\n",
       "      <td>4.761905</td>\n",
       "      <td>1.5920</td>\n",
       "      <td>7.7</td>\n",
       "    </tr>\n",
       "    <tr>\n",
       "      <th>998</th>\n",
       "      <td>347-56-2442</td>\n",
       "      <td>A</td>\n",
       "      <td>Yangon</td>\n",
       "      <td>Normal</td>\n",
       "      <td>Male</td>\n",
       "      <td>Home and lifestyle</td>\n",
       "      <td>65.82</td>\n",
       "      <td>1</td>\n",
       "      <td>3.2910</td>\n",
       "      <td>69.1110</td>\n",
       "      <td>2/22/2019</td>\n",
       "      <td>15:33</td>\n",
       "      <td>Cash</td>\n",
       "      <td>65.82</td>\n",
       "      <td>4.761905</td>\n",
       "      <td>3.2910</td>\n",
       "      <td>4.1</td>\n",
       "    </tr>\n",
       "    <tr>\n",
       "      <th>999</th>\n",
       "      <td>849-09-3807</td>\n",
       "      <td>A</td>\n",
       "      <td>Yangon</td>\n",
       "      <td>Member</td>\n",
       "      <td>Female</td>\n",
       "      <td>Fashion accessories</td>\n",
       "      <td>88.34</td>\n",
       "      <td>7</td>\n",
       "      <td>30.9190</td>\n",
       "      <td>649.2990</td>\n",
       "      <td>2/18/2019</td>\n",
       "      <td>13:28</td>\n",
       "      <td>Cash</td>\n",
       "      <td>618.38</td>\n",
       "      <td>4.761905</td>\n",
       "      <td>30.9190</td>\n",
       "      <td>6.6</td>\n",
       "    </tr>\n",
       "  </tbody>\n",
       "</table>\n",
       "<p>1000 rows × 17 columns</p>\n",
       "</div>"
      ],
      "text/plain": [
       "      Invoice ID Branch       City Customer type  Gender  \\\n",
       "0    750-67-8428      A     Yangon        Member  Female   \n",
       "1    226-31-3081      C  Naypyitaw        Normal  Female   \n",
       "2    631-41-3108      A     Yangon        Normal    Male   \n",
       "3    123-19-1176      A     Yangon        Member    Male   \n",
       "4    373-73-7910      A     Yangon        Normal    Male   \n",
       "..           ...    ...        ...           ...     ...   \n",
       "995  233-67-5758      C  Naypyitaw        Normal    Male   \n",
       "996  303-96-2227      B   Mandalay        Normal  Female   \n",
       "997  727-02-1313      A     Yangon        Member    Male   \n",
       "998  347-56-2442      A     Yangon        Normal    Male   \n",
       "999  849-09-3807      A     Yangon        Member  Female   \n",
       "\n",
       "               Product line  Unit price  Quantity   Tax 5%      Total  \\\n",
       "0         Health and beauty       74.69         7  26.1415   548.9715   \n",
       "1    Electronic accessories       15.28         5   3.8200    80.2200   \n",
       "2        Home and lifestyle       46.33         7  16.2155   340.5255   \n",
       "3         Health and beauty       58.22         8  23.2880   489.0480   \n",
       "4         Sports and travel       86.31         7  30.2085   634.3785   \n",
       "..                      ...         ...       ...      ...        ...   \n",
       "995       Health and beauty       40.35         1   2.0175    42.3675   \n",
       "996      Home and lifestyle       97.38        10  48.6900  1022.4900   \n",
       "997      Food and beverages       31.84         1   1.5920    33.4320   \n",
       "998      Home and lifestyle       65.82         1   3.2910    69.1110   \n",
       "999     Fashion accessories       88.34         7  30.9190   649.2990   \n",
       "\n",
       "          Date   Time      Payment    cogs  gross margin percentage  \\\n",
       "0     1/5/2019  13:08      Ewallet  522.83                 4.761905   \n",
       "1     3/8/2019  10:29         Cash   76.40                 4.761905   \n",
       "2     3/3/2019  13:23  Credit card  324.31                 4.761905   \n",
       "3    1/27/2019  20:33      Ewallet  465.76                 4.761905   \n",
       "4     2/8/2019  10:37      Ewallet  604.17                 4.761905   \n",
       "..         ...    ...          ...     ...                      ...   \n",
       "995  1/29/2019  13:46      Ewallet   40.35                 4.761905   \n",
       "996   3/2/2019  17:16      Ewallet  973.80                 4.761905   \n",
       "997   2/9/2019  13:22         Cash   31.84                 4.761905   \n",
       "998  2/22/2019  15:33         Cash   65.82                 4.761905   \n",
       "999  2/18/2019  13:28         Cash  618.38                 4.761905   \n",
       "\n",
       "     gross income  Rating  \n",
       "0         26.1415     9.1  \n",
       "1          3.8200     9.6  \n",
       "2         16.2155     7.4  \n",
       "3         23.2880     8.4  \n",
       "4         30.2085     5.3  \n",
       "..            ...     ...  \n",
       "995        2.0175     6.2  \n",
       "996       48.6900     4.4  \n",
       "997        1.5920     7.7  \n",
       "998        3.2910     4.1  \n",
       "999       30.9190     6.6  \n",
       "\n",
       "[1000 rows x 17 columns]"
      ]
     },
     "execution_count": 1,
     "metadata": {},
     "output_type": "execute_result"
    }
   ],
   "source": [
    "import pandas as pd\n",
    "import math\n",
    "sales=pd.read_csv('supermarket_sales - Sheet1.csv')\n",
    "sales"
   ]
  },
  {
   "cell_type": "code",
   "execution_count": 2,
   "id": "117cad09-6da9-4f07-a57c-809d721bc537",
   "metadata": {},
   "outputs": [
    {
     "data": {
      "text/html": [
       "<div>\n",
       "<style scoped>\n",
       "    .dataframe tbody tr th:only-of-type {\n",
       "        vertical-align: middle;\n",
       "    }\n",
       "\n",
       "    .dataframe tbody tr th {\n",
       "        vertical-align: top;\n",
       "    }\n",
       "\n",
       "    .dataframe thead th {\n",
       "        text-align: right;\n",
       "    }\n",
       "</style>\n",
       "<table border=\"1\" class=\"dataframe\">\n",
       "  <thead>\n",
       "    <tr style=\"text-align: right;\">\n",
       "      <th></th>\n",
       "      <th>Invoice ID</th>\n",
       "      <th>Branch</th>\n",
       "      <th>City</th>\n",
       "      <th>Customer type</th>\n",
       "      <th>Gender</th>\n",
       "      <th>Product line</th>\n",
       "      <th>Unit price</th>\n",
       "      <th>Quantity</th>\n",
       "      <th>Tax 5%</th>\n",
       "      <th>Total</th>\n",
       "      <th>Date</th>\n",
       "      <th>Time</th>\n",
       "      <th>Payment</th>\n",
       "      <th>cogs</th>\n",
       "      <th>gross margin percentage</th>\n",
       "      <th>gross income</th>\n",
       "      <th>Rating</th>\n",
       "      <th>Month</th>\n",
       "      <th>Week</th>\n",
       "    </tr>\n",
       "  </thead>\n",
       "  <tbody>\n",
       "    <tr>\n",
       "      <th>0</th>\n",
       "      <td>750-67-8428</td>\n",
       "      <td>A</td>\n",
       "      <td>Yangon</td>\n",
       "      <td>Member</td>\n",
       "      <td>Female</td>\n",
       "      <td>Health and beauty</td>\n",
       "      <td>74.69</td>\n",
       "      <td>7</td>\n",
       "      <td>26.1415</td>\n",
       "      <td>548.9715</td>\n",
       "      <td>1/5/2019</td>\n",
       "      <td>13:08</td>\n",
       "      <td>Ewallet</td>\n",
       "      <td>522.83</td>\n",
       "      <td>4.761905</td>\n",
       "      <td>26.1415</td>\n",
       "      <td>9.1</td>\n",
       "      <td>1</td>\n",
       "      <td>0</td>\n",
       "    </tr>\n",
       "    <tr>\n",
       "      <th>1</th>\n",
       "      <td>226-31-3081</td>\n",
       "      <td>C</td>\n",
       "      <td>Naypyitaw</td>\n",
       "      <td>Normal</td>\n",
       "      <td>Female</td>\n",
       "      <td>Electronic accessories</td>\n",
       "      <td>15.28</td>\n",
       "      <td>5</td>\n",
       "      <td>3.8200</td>\n",
       "      <td>80.2200</td>\n",
       "      <td>3/8/2019</td>\n",
       "      <td>10:29</td>\n",
       "      <td>Cash</td>\n",
       "      <td>76.40</td>\n",
       "      <td>4.761905</td>\n",
       "      <td>3.8200</td>\n",
       "      <td>9.6</td>\n",
       "      <td>3</td>\n",
       "      <td>9</td>\n",
       "    </tr>\n",
       "    <tr>\n",
       "      <th>2</th>\n",
       "      <td>631-41-3108</td>\n",
       "      <td>A</td>\n",
       "      <td>Yangon</td>\n",
       "      <td>Normal</td>\n",
       "      <td>Male</td>\n",
       "      <td>Home and lifestyle</td>\n",
       "      <td>46.33</td>\n",
       "      <td>7</td>\n",
       "      <td>16.2155</td>\n",
       "      <td>340.5255</td>\n",
       "      <td>3/3/2019</td>\n",
       "      <td>13:23</td>\n",
       "      <td>Credit card</td>\n",
       "      <td>324.31</td>\n",
       "      <td>4.761905</td>\n",
       "      <td>16.2155</td>\n",
       "      <td>7.4</td>\n",
       "      <td>3</td>\n",
       "      <td>8</td>\n",
       "    </tr>\n",
       "    <tr>\n",
       "      <th>3</th>\n",
       "      <td>123-19-1176</td>\n",
       "      <td>A</td>\n",
       "      <td>Yangon</td>\n",
       "      <td>Member</td>\n",
       "      <td>Male</td>\n",
       "      <td>Health and beauty</td>\n",
       "      <td>58.22</td>\n",
       "      <td>8</td>\n",
       "      <td>23.2880</td>\n",
       "      <td>489.0480</td>\n",
       "      <td>1/27/2019</td>\n",
       "      <td>20:33</td>\n",
       "      <td>Ewallet</td>\n",
       "      <td>465.76</td>\n",
       "      <td>4.761905</td>\n",
       "      <td>23.2880</td>\n",
       "      <td>8.4</td>\n",
       "      <td>1</td>\n",
       "      <td>3</td>\n",
       "    </tr>\n",
       "    <tr>\n",
       "      <th>4</th>\n",
       "      <td>373-73-7910</td>\n",
       "      <td>A</td>\n",
       "      <td>Yangon</td>\n",
       "      <td>Normal</td>\n",
       "      <td>Male</td>\n",
       "      <td>Sports and travel</td>\n",
       "      <td>86.31</td>\n",
       "      <td>7</td>\n",
       "      <td>30.2085</td>\n",
       "      <td>634.3785</td>\n",
       "      <td>2/8/2019</td>\n",
       "      <td>10:37</td>\n",
       "      <td>Ewallet</td>\n",
       "      <td>604.17</td>\n",
       "      <td>4.761905</td>\n",
       "      <td>30.2085</td>\n",
       "      <td>5.3</td>\n",
       "      <td>2</td>\n",
       "      <td>5</td>\n",
       "    </tr>\n",
       "  </tbody>\n",
       "</table>\n",
       "</div>"
      ],
      "text/plain": [
       "    Invoice ID Branch       City Customer type  Gender  \\\n",
       "0  750-67-8428      A     Yangon        Member  Female   \n",
       "1  226-31-3081      C  Naypyitaw        Normal  Female   \n",
       "2  631-41-3108      A     Yangon        Normal    Male   \n",
       "3  123-19-1176      A     Yangon        Member    Male   \n",
       "4  373-73-7910      A     Yangon        Normal    Male   \n",
       "\n",
       "             Product line  Unit price  Quantity   Tax 5%     Total       Date  \\\n",
       "0       Health and beauty       74.69         7  26.1415  548.9715   1/5/2019   \n",
       "1  Electronic accessories       15.28         5   3.8200   80.2200   3/8/2019   \n",
       "2      Home and lifestyle       46.33         7  16.2155  340.5255   3/3/2019   \n",
       "3       Health and beauty       58.22         8  23.2880  489.0480  1/27/2019   \n",
       "4       Sports and travel       86.31         7  30.2085  634.3785   2/8/2019   \n",
       "\n",
       "    Time      Payment    cogs  gross margin percentage  gross income  Rating  \\\n",
       "0  13:08      Ewallet  522.83                 4.761905       26.1415     9.1   \n",
       "1  10:29         Cash   76.40                 4.761905        3.8200     9.6   \n",
       "2  13:23  Credit card  324.31                 4.761905       16.2155     7.4   \n",
       "3  20:33      Ewallet  465.76                 4.761905       23.2880     8.4   \n",
       "4  10:37      Ewallet  604.17                 4.761905       30.2085     5.3   \n",
       "\n",
       "   Month  Week  \n",
       "0      1     0  \n",
       "1      3     9  \n",
       "2      3     8  \n",
       "3      1     3  \n",
       "4      2     5  "
      ]
     },
     "execution_count": 2,
     "metadata": {},
     "output_type": "execute_result"
    }
   ],
   "source": [
    "#Make a month and week column for easier analysis\n",
    "sales['Month']= sales['Date'].str[0]\n",
    "sales['Month']=sales['Month'].astype('int32')\n",
    "\n",
    "#Pulling the day out of the purchase\n",
    "sales['Week']=sales['Date'].apply(lambda x: x.split('/')[1])\n",
    "sales['Week']=sales['Week'].astype('int32')\n",
    "\n",
    "#Creating a week system for grouping purchases\n",
    "sales['Week']=sales['Week']//7\n",
    "sales.loc[sales['Month']== 2, 'Week'] += 4\n",
    "sales.loc[sales['Month']== 3, 'Week'] += 8\n",
    "\n",
    "sales.head()"
   ]
  },
  {
   "cell_type": "code",
   "execution_count": 3,
   "id": "c5bc0760-3893-4950-beca-dad44225d0e5",
   "metadata": {},
   "outputs": [
    {
     "data": {
      "image/png": "[encoded data removed]",
      "text/plain": [
       "<Figure size 640x480 with 1 Axes>"
      ]
     },
     "metadata": {},
     "output_type": "display_data"
    }
   ],
   "source": [
    "import matplotlib.pyplot as plt\n",
    "\n",
    "results=sales.groupby('Week').sum()\n",
    "weeks= range(0,13)\n",
    "plt.bar(weeks,results['gross income'])\n",
    "plt.xticks(weeks)\n",
    "plt.ylabel('Gross income')\n",
    "plt.xlabel('Week number')\n",
    "plt.show()"
   ]
  },
  {
   "cell_type": "markdown",
   "id": "f5831218-2214-46f5-9284-16d7674b03be",
   "metadata": {},
   "source": [
    "The best overall week was week 4, which is week 1 of Febuary "
   ]
  },
  {
   "cell_type": "markdown",
   "id": "dcb8a94f-2449-42b3-a6ae-f66801b7b5a1",
   "metadata": {},
   "source": [
    "#### What was the best selling product line?\n",
    "\n",
    "\n"
   ]
  },
  {
   "cell_type": "code",
   "execution_count": 4,
   "id": "93ebc194-661a-4567-b4c3-4c519a012529",
   "metadata": {},
   "outputs": [
    {
     "name": "stdout",
     "output_type": "stream",
     "text": [
      "['Health and beauty' 'Electronic accessories' 'Home and lifestyle'\n",
      " 'Sports and travel' 'Food and beverages' 'Fashion accessories']\n"
     ]
    }
   ],
   "source": [
    "product_lines=sales['Product line'].unique()\n",
    "print(product_lines)"
   ]
  },
  {
   "cell_type": "markdown",
   "id": "0964045f-2009-43ee-9c72-91d611728ad2",
   "metadata": {},
   "source": [
    "there is a total of 6 different product lines"
   ]
  },
  {
   "cell_type": "code",
   "execution_count": 5,
   "id": "db5e2621-9f44-4646-99de-8ee1217d43d1",
   "metadata": {},
   "outputs": [
    {
     "name": "stdout",
     "output_type": "stream",
     "text": [
      "Product line\n",
      "Electronic accessories    2587.5015\n",
      "Fashion accessories       2585.9950\n",
      "Food and beverages        2673.5640\n",
      "Health and beauty         2342.5590\n",
      "Home and lifestyle        2564.8530\n",
      "Sports and travel         2624.8965\n",
      "Name: gross income, dtype: float64\n"
     ]
    }
   ],
   "source": [
    "product_results=sales.groupby('Product line').sum()\n",
    "print(product_results['gross income'])\n",
    "#Change the product line array to make the graph accurate and abbreviate\n",
    "product_lines[0]='Ea'\n",
    "product_lines[1]='Fa'\n",
    "product_lines[2]='Fb'\n",
    "product_lines[3]='Hb'\n",
    "product_lines[4]='Hl'\n",
    "product_lines[5]='St'\n"
   ]
  },
  {
   "cell_type": "code",
   "execution_count": 6,
   "id": "35d4705d-1b44-4ce1-884a-374aef121b74",
   "metadata": {
    "scrolled": true
   },
   "outputs": [
    {
     "data": {
      "text/plain": [
       "<BarContainer object of 6 artists>"
      ]
     },
     "execution_count": 6,
     "metadata": {},
     "output_type": "execute_result"
    },
    {
     "data": {
      "image/png": "[encoded data removed]",
      "text/plain": [
       "<Figure size 640x480 with 1 Axes>"
      ]
     },
     "metadata": {},
     "output_type": "display_data"
    }
   ],
   "source": [
    "plt.bar(product_lines,product_results['gross income'])"
   ]
  },
  {
   "cell_type": "markdown",
   "id": "a416a1c7-1bb0-4023-9c4a-80c4ec1cbc9c",
   "metadata": {},
   "source": [
    "All of the products have relatively the same gross income, all around 2550, with the lowest gross income being Health and Beauty products"
   ]
  },
  {
   "cell_type": "markdown",
   "id": "1983dd03-fc09-4525-98a2-c1bc9281f794",
   "metadata": {},
   "source": [
    "#### Average gross income per product sale"
   ]
  },
  {
   "cell_type": "markdown",
   "id": "f5c434ae-bc96-4fe7-a23f-98a2fe55462d",
   "metadata": {},
   "source": [
    "This will not factor in the quantity bought of each sale"
   ]
  },
  {
   "cell_type": "code",
   "execution_count": 7,
   "id": "babf7547-70e5-4c09-81a0-999b5ba8f308",
   "metadata": {},
   "outputs": [],
   "source": [
    "ea_tot=len(sales.loc[sales['Product line']=='Electronic accessories'])\n",
    "fa_tot=len(sales.loc[sales['Product line']=='Fashion accessories'])\n",
    "hb_tot=len(sales.loc[sales['Product line']=='Health and beauty'])\n",
    "fb_tot=len(sales.loc[sales['Product line']=='Food and beverages'])\n",
    "hl_tot=len(sales.loc[sales['Product line']=='Home and lifestyle'])\n",
    "st_tot=len(sales.loc[sales['Product line']=='Sports and travel'])\n",
    "prod_tot=[ea_tot,fa_tot,fb_tot,hb_tot,hl_tot,st_tot]\n",
    "\n",
    "ea_avg=product_results['gross income']['Electronic accessories']/ea_tot\n",
    "fa_avg=product_results['gross income']['Fashion accessories']/fa_tot\n",
    "hb_avg=product_results['gross income']['Health and beauty']/hb_tot\n",
    "fb_avg=product_results['gross income']['Food and beverages']/fb_tot\n",
    "hl_avg=product_results['gross income']['Home and lifestyle']/hl_tot\n",
    "st_avg=product_results['gross income']['Sports and travel']/st_tot\n",
    "prod_avg=[ea_avg,fa_avg,fb_avg,hb_avg,hl_avg,st_avg]"
   ]
  },
  {
   "cell_type": "code",
   "execution_count": 8,
   "id": "fd2eea0b-9a4c-44c9-bb43-f7dab49af4e4",
   "metadata": {},
   "outputs": [
    {
     "data": {
      "text/plain": [
       "Text(0.5, 0, 'Product lines')"
      ]
     },
     "execution_count": 8,
     "metadata": {},
     "output_type": "execute_result"
    },
    {
     "data": {
      "image/png": "[encoded data removed]",
      "text/plain": [
       "<Figure size 640x480 with 1 Axes>"
      ]
     },
     "metadata": {},
     "output_type": "display_data"
    }
   ],
   "source": [
    "plt.bar(product_lines,prod_avg)\n",
    "plt.ylabel('Average gross income ($)')\n",
    "plt.xlabel('Product lines')"
   ]
  },
  {
   "cell_type": "code",
   "execution_count": 9,
   "id": "0e72b6f2-9e5f-44bd-9130-4b8ecc20a868",
   "metadata": {},
   "outputs": [
    {
     "data": {
      "text/plain": [
       "Text(0.5, 0, 'Product lines')"
      ]
     },
     "execution_count": 9,
     "metadata": {},
     "output_type": "execute_result"
    },
    {
     "data": {
      "image/png": "[encoded data removed]",
      "text/plain": [
       "<Figure size 640x480 with 1 Axes>"
      ]
     },
     "metadata": {},
     "output_type": "display_data"
    }
   ],
   "source": [
    "plt.bar(product_lines,prod_tot)\n",
    "plt.ylabel('Total number of sales')\n",
    "plt.xlabel('Product lines')"
   ]
  },
  {
   "cell_type": "markdown",
   "id": "e3a4dc6b-04bb-444d-be61-d82c366b1bc3",
   "metadata": {},
   "source": [
    "Surprisingly, the total number of sales is down for Health and Beauty products, but the average gross income is about average for Health and beauty"
   ]
  },
  {
   "cell_type": "markdown",
   "id": "9cc58c81-6476-4176-ae86-db92065f70b1",
   "metadata": {},
   "source": [
    "#### Next look at the Cities and branches"
   ]
  },
  {
   "cell_type": "code",
   "execution_count": 10,
   "id": "02add948-fa6a-42bc-bec0-450e50735861",
   "metadata": {},
   "outputs": [
    {
     "name": "stdout",
     "output_type": "stream",
     "text": [
      "['A' 'C' 'B']\n"
     ]
    }
   ],
   "source": [
    "branch_list=sales['Branch'].unique()\n",
    "print(branch_list)"
   ]
  },
  {
   "cell_type": "code",
   "execution_count": 11,
   "id": "23864ce2-0bfa-42be-9ab0-85b4a8ce9e6c",
   "metadata": {},
   "outputs": [
    {
     "name": "stdout",
     "output_type": "stream",
     "text": [
      "Branch\n",
      "A    5057.1605\n",
      "B    5057.0320\n",
      "C    5265.1765\n",
      "Name: gross income, dtype: float64\n"
     ]
    }
   ],
   "source": [
    "Branch_results=sales.groupby('Branch').sum()\n",
    "print(Branch_results['gross income'])"
   ]
  },
  {
   "cell_type": "markdown",
   "id": "435e864e-cde3-485b-b9ac-416642654d0b",
   "metadata": {},
   "source": [
    "Branch C has the largest gross income of the 3 branches, the other two have the same income, next we should see why this is the case"
   ]
  },
  {
   "cell_type": "markdown",
   "id": "b6c5dedc-c301-4798-a48f-38f965f3684e",
   "metadata": {},
   "source": [
    "### Branch sales and What the products sold are"
   ]
  },
  {
   "cell_type": "code",
   "execution_count": 12,
   "id": "1245110e-6e34-4466-a491-46bc316af93a",
   "metadata": {},
   "outputs": [
    {
     "name": "stdout",
     "output_type": "stream",
     "text": [
      "328\n"
     ]
    }
   ],
   "source": [
    "salesn=len(sales.loc[sales['City']=='Naypyitaw'])\n",
    "print(salesn)"
   ]
  },
  {
   "cell_type": "code",
   "execution_count": 13,
   "id": "ca14f3c5-acd0-494d-a7ef-eca9265353d2",
   "metadata": {},
   "outputs": [
    {
     "name": "stdout",
     "output_type": "stream",
     "text": [
      "332\n"
     ]
    }
   ],
   "source": [
    "salesm=len(sales.loc[sales['City']=='Mandalay'])\n",
    "print(salesm)"
   ]
  },
  {
   "cell_type": "code",
   "execution_count": 14,
   "id": "55e2db8e-82d4-4e2d-aedd-b9ad547fae8e",
   "metadata": {},
   "outputs": [
    {
     "name": "stdout",
     "output_type": "stream",
     "text": [
      "340\n"
     ]
    }
   ],
   "source": [
    "salesy=len(sales.loc[sales['City']=='Yangon'])\n",
    "print(salesy)"
   ]
  },
  {
   "cell_type": "markdown",
   "id": "0ed60503-a65c-4a24-b385-2c2cfddfc1c9",
   "metadata": {},
   "source": [
    "Amount of sales for Naypyitaw is lower compared to the other cities, so that isn't the reason"
   ]
  },
  {
   "cell_type": "markdown",
   "id": "eb310f98-8791-40f0-b8df-a2a6e1402c81",
   "metadata": {},
   "source": [
    "Lets break down the product line sales in each city"
   ]
  },
  {
   "cell_type": "code",
   "execution_count": 15,
   "id": "1ec45332-3bee-41e4-8355-3c8311c00bbd",
   "metadata": {},
   "outputs": [
    {
     "data": {
      "text/html": [
       "<div>\n",
       "<style scoped>\n",
       "    .dataframe tbody tr th:only-of-type {\n",
       "        vertical-align: middle;\n",
       "    }\n",
       "\n",
       "    .dataframe tbody tr th {\n",
       "        vertical-align: top;\n",
       "    }\n",
       "\n",
       "    .dataframe thead th {\n",
       "        text-align: right;\n",
       "    }\n",
       "</style>\n",
       "<table border=\"1\" class=\"dataframe\">\n",
       "  <thead>\n",
       "    <tr style=\"text-align: right;\">\n",
       "      <th></th>\n",
       "      <th>Invoice ID</th>\n",
       "      <th>Branch</th>\n",
       "      <th>City</th>\n",
       "      <th>Customer type</th>\n",
       "      <th>Gender</th>\n",
       "      <th>Product line</th>\n",
       "      <th>Unit price</th>\n",
       "      <th>Quantity</th>\n",
       "      <th>Tax 5%</th>\n",
       "      <th>Total</th>\n",
       "      <th>Date</th>\n",
       "      <th>Time</th>\n",
       "      <th>Payment</th>\n",
       "      <th>cogs</th>\n",
       "      <th>gross margin percentage</th>\n",
       "      <th>gross income</th>\n",
       "      <th>Rating</th>\n",
       "      <th>Month</th>\n",
       "      <th>Week</th>\n",
       "    </tr>\n",
       "  </thead>\n",
       "  <tbody>\n",
       "    <tr>\n",
       "      <th>0</th>\n",
       "      <td>750-67-8428</td>\n",
       "      <td>A</td>\n",
       "      <td>Yangon</td>\n",
       "      <td>Member</td>\n",
       "      <td>Female</td>\n",
       "      <td>hb</td>\n",
       "      <td>74.69</td>\n",
       "      <td>7</td>\n",
       "      <td>26.1415</td>\n",
       "      <td>548.9715</td>\n",
       "      <td>1/5/2019</td>\n",
       "      <td>13:08</td>\n",
       "      <td>Ewallet</td>\n",
       "      <td>522.83</td>\n",
       "      <td>4.761905</td>\n",
       "      <td>26.1415</td>\n",
       "      <td>9.1</td>\n",
       "      <td>1</td>\n",
       "      <td>0</td>\n",
       "    </tr>\n",
       "    <tr>\n",
       "      <th>1</th>\n",
       "      <td>226-31-3081</td>\n",
       "      <td>C</td>\n",
       "      <td>Naypyitaw</td>\n",
       "      <td>Normal</td>\n",
       "      <td>Female</td>\n",
       "      <td>ea</td>\n",
       "      <td>15.28</td>\n",
       "      <td>5</td>\n",
       "      <td>3.8200</td>\n",
       "      <td>80.2200</td>\n",
       "      <td>3/8/2019</td>\n",
       "      <td>10:29</td>\n",
       "      <td>Cash</td>\n",
       "      <td>76.40</td>\n",
       "      <td>4.761905</td>\n",
       "      <td>3.8200</td>\n",
       "      <td>9.6</td>\n",
       "      <td>3</td>\n",
       "      <td>9</td>\n",
       "    </tr>\n",
       "    <tr>\n",
       "      <th>2</th>\n",
       "      <td>631-41-3108</td>\n",
       "      <td>A</td>\n",
       "      <td>Yangon</td>\n",
       "      <td>Normal</td>\n",
       "      <td>Male</td>\n",
       "      <td>hl</td>\n",
       "      <td>46.33</td>\n",
       "      <td>7</td>\n",
       "      <td>16.2155</td>\n",
       "      <td>340.5255</td>\n",
       "      <td>3/3/2019</td>\n",
       "      <td>13:23</td>\n",
       "      <td>Credit card</td>\n",
       "      <td>324.31</td>\n",
       "      <td>4.761905</td>\n",
       "      <td>16.2155</td>\n",
       "      <td>7.4</td>\n",
       "      <td>3</td>\n",
       "      <td>8</td>\n",
       "    </tr>\n",
       "    <tr>\n",
       "      <th>3</th>\n",
       "      <td>123-19-1176</td>\n",
       "      <td>A</td>\n",
       "      <td>Yangon</td>\n",
       "      <td>Member</td>\n",
       "      <td>Male</td>\n",
       "      <td>hb</td>\n",
       "      <td>58.22</td>\n",
       "      <td>8</td>\n",
       "      <td>23.2880</td>\n",
       "      <td>489.0480</td>\n",
       "      <td>1/27/2019</td>\n",
       "      <td>20:33</td>\n",
       "      <td>Ewallet</td>\n",
       "      <td>465.76</td>\n",
       "      <td>4.761905</td>\n",
       "      <td>23.2880</td>\n",
       "      <td>8.4</td>\n",
       "      <td>1</td>\n",
       "      <td>3</td>\n",
       "    </tr>\n",
       "    <tr>\n",
       "      <th>4</th>\n",
       "      <td>373-73-7910</td>\n",
       "      <td>A</td>\n",
       "      <td>Yangon</td>\n",
       "      <td>Normal</td>\n",
       "      <td>Male</td>\n",
       "      <td>st</td>\n",
       "      <td>86.31</td>\n",
       "      <td>7</td>\n",
       "      <td>30.2085</td>\n",
       "      <td>634.3785</td>\n",
       "      <td>2/8/2019</td>\n",
       "      <td>10:37</td>\n",
       "      <td>Ewallet</td>\n",
       "      <td>604.17</td>\n",
       "      <td>4.761905</td>\n",
       "      <td>30.2085</td>\n",
       "      <td>5.3</td>\n",
       "      <td>2</td>\n",
       "      <td>5</td>\n",
       "    </tr>\n",
       "  </tbody>\n",
       "</table>\n",
       "</div>"
      ],
      "text/plain": [
       "    Invoice ID Branch       City Customer type  Gender Product line  \\\n",
       "0  750-67-8428      A     Yangon        Member  Female           hb   \n",
       "1  226-31-3081      C  Naypyitaw        Normal  Female           ea   \n",
       "2  631-41-3108      A     Yangon        Normal    Male           hl   \n",
       "3  123-19-1176      A     Yangon        Member    Male           hb   \n",
       "4  373-73-7910      A     Yangon        Normal    Male           st   \n",
       "\n",
       "   Unit price  Quantity   Tax 5%     Total       Date   Time      Payment  \\\n",
       "0       74.69         7  26.1415  548.9715   1/5/2019  13:08      Ewallet   \n",
       "1       15.28         5   3.8200   80.2200   3/8/2019  10:29         Cash   \n",
       "2       46.33         7  16.2155  340.5255   3/3/2019  13:23  Credit card   \n",
       "3       58.22         8  23.2880  489.0480  1/27/2019  20:33      Ewallet   \n",
       "4       86.31         7  30.2085  634.3785   2/8/2019  10:37      Ewallet   \n",
       "\n",
       "     cogs  gross margin percentage  gross income  Rating  Month  Week  \n",
       "0  522.83                 4.761905       26.1415     9.1      1     0  \n",
       "1   76.40                 4.761905        3.8200     9.6      3     9  \n",
       "2  324.31                 4.761905       16.2155     7.4      3     8  \n",
       "3  465.76                 4.761905       23.2880     8.4      1     3  \n",
       "4  604.17                 4.761905       30.2085     5.3      2     5  "
      ]
     },
     "execution_count": 15,
     "metadata": {},
     "output_type": "execute_result"
    }
   ],
   "source": [
    "###Abbreviating some words to make algorithms easier to create\n",
    "sales.loc[sales['Product line']=='Electronic accessories', 'Product line']= 'ea'\n",
    "sales.loc[sales['Product line']=='Health and beauty', 'Product line']= 'hb'\n",
    "sales.loc[sales['Product line']=='Fashion accessories', 'Product line']= 'fa'\n",
    "sales.loc[sales['Product line']=='Food and beverages', 'Product line']= 'fb'\n",
    "sales.loc[sales['Product line']=='Home and lifestyle', 'Product line']= 'hl'\n",
    "sales.loc[sales['Product line']=='Sports and travel', 'Product line']= 'st'\n",
    "\n",
    "sales.head()"
   ]
  },
  {
   "cell_type": "code",
   "execution_count": 16,
   "id": "7ad304e5-96d2-4071-b59f-d0b8875e9bd8",
   "metadata": {},
   "outputs": [],
   "source": [
    "prod_sales_n=[0,0,0,0,0,0]\n",
    "prod_sales_n[0]=sales.loc[(sales['Branch']=='C') & (sales['Product line']=='ea')]['gross income'].sum()\n",
    "prod_sales_n[1]=sales.loc[(sales['Branch']=='C') & (sales['Product line']=='fa')]['gross income'].sum()\n",
    "prod_sales_n[2]=sales.loc[(sales['Branch']=='C') & (sales['Product line']=='fb')]['gross income'].sum()\n",
    "prod_sales_n[3]=sales.loc[(sales['Branch']=='C') & (sales['Product line']=='hb')]['gross income'].sum()\n",
    "prod_sales_n[4]=sales.loc[(sales['Branch']=='C') & (sales['Product line']=='hl')]['gross income'].sum()\n",
    "prod_sales_n[5]=sales.loc[(sales['Branch']=='C') & (sales['Product line']=='st')]['gross income'].sum()"
   ]
  },
  {
   "cell_type": "code",
   "execution_count": 17,
   "id": "3662c498-f996-414d-ad55-8b41355bf9d1",
   "metadata": {},
   "outputs": [],
   "source": [
    "prod_sales_m=[0,0,0,0,0,0]\n",
    "prod_sales_m[0]=sales.loc[(sales['Branch']=='B') & (sales['Product line']=='ea')]['gross income'].sum()\n",
    "prod_sales_m[1]=sales.loc[(sales['Branch']=='B') & (sales['Product line']=='fa')]['gross income'].sum()\n",
    "prod_sales_m[2]=sales.loc[(sales['Branch']=='B') & (sales['Product line']=='fb')]['gross income'].sum()\n",
    "prod_sales_m[3]=sales.loc[(sales['Branch']=='B') & (sales['Product line']=='hb')]['gross income'].sum()\n",
    "prod_sales_m[4]=sales.loc[(sales['Branch']=='B') & (sales['Product line']=='hl')]['gross income'].sum()\n",
    "prod_sales_m[5]=sales.loc[(sales['Branch']=='B') & (sales['Product line']=='st')]['gross income'].sum()"
   ]
  },
  {
   "cell_type": "code",
   "execution_count": 18,
   "id": "467cabfc-5c81-451d-b6e9-6e8e80428ec3",
   "metadata": {},
   "outputs": [],
   "source": [
    "prod_sales_y=[0,0,0,0,0,0]\n",
    "prod_sales_y[0]=sales.loc[(sales['Branch']=='A') & (sales['Product line']=='ea')]['gross income'].sum()\n",
    "prod_sales_y[1]=sales.loc[(sales['Branch']=='A') & (sales['Product line']=='fa')]['gross income'].sum()\n",
    "prod_sales_y[2]=sales.loc[(sales['Branch']=='A') & (sales['Product line']=='fb')]['gross income'].sum()\n",
    "prod_sales_y[3]=sales.loc[(sales['Branch']=='A') & (sales['Product line']=='hb')]['gross income'].sum()\n",
    "prod_sales_y[4]=sales.loc[(sales['Branch']=='A') & (sales['Product line']=='hl')]['gross income'].sum()\n",
    "prod_sales_y[5]=sales.loc[(sales['Branch']=='A') & (sales['Product line']=='st')]['gross income'].sum()"
   ]
  },
  {
   "cell_type": "code",
   "execution_count": 19,
   "id": "fded03b3-8304-49cf-907e-d58266a7c23a",
   "metadata": {},
   "outputs": [
    {
     "data": {
      "image/png": "[encoded data removed]",
      "text/plain": [
       "<Figure size 640x480 with 1 Axes>"
      ]
     },
     "metadata": {},
     "output_type": "display_data"
    }
   ],
   "source": [
    "import numpy as np\n",
    "br1=np.arange(len(product_lines))\n",
    "br2=[x + 0.25 for x in br1]\n",
    "br3=[x + 0.25 for x in br2]\n",
    "\n",
    "plt.bar(br1,prod_sales_y,color='b',width=0.25,edgecolor='grey',label='A')\n",
    "plt.bar(br2,prod_sales_n,color='g',width=0.25,edgecolor='grey',label='B')\n",
    "plt.bar(br3,prod_sales_m,color='r',width=0.25,edgecolor='grey',label='C')\n",
    "\n",
    "plt.ylabel('Gross income')\n",
    "plt.xlabel('Product lines')\n",
    "\n",
    "plt.xticks([r+0.25 for r in range(len(product_lines))], ['ea','fa','fb','hb','hl','st'])\n",
    "\n",
    "plt.legend()\n",
    "plt.show()"
   ]
  },
  {
   "cell_type": "markdown",
   "id": "6f7fb6e6-0022-4c3c-b3d8-368fc0f10dcd",
   "metadata": {},
   "source": [
    "The gross margin for Branch 'B' is significantly higher for Food and Beverages products and Fashion Accessories compared to the other branches"
   ]
  },
  {
   "cell_type": "markdown",
   "id": "ba680fab-3a51-4038-99b2-c4144417b6ca",
   "metadata": {},
   "source": [
    "#### Take aways from this part of analysis:"
   ]
  },
  {
   "cell_type": "markdown",
   "id": "e305409f-5815-41ad-bbec-f349e024f7c2",
   "metadata": {},
   "source": [
    "None of the product lines have any significant margin of income difference, meaning that branches that struggle with a product line sales should focus on increasing that specific line to increase growth.  \n",
    "Branch C, which is the city of Naypyitaw, has the largest gross income, while the other two branches have roughly the same gross income, being about 200 dollars behind branch C.\n",
    "Recommendations for Branch A, would be to incentivize Health and beauty product sales to match the other product lines sold at the branch\n",
    "Recommendations for Branch B, would be to incentivize Home and lifestyle product sales, for the same reason as branch A."
   ]
  },
  {
   "cell_type": "markdown",
   "id": "4235c471-a664-4ce7-8f3d-72f59cb99214",
   "metadata": {},
   "source": [
    "#### Customer analysis and ratings"
   ]
  },
  {
   "cell_type": "code",
   "execution_count": 20,
   "id": "f2125240-c47a-49e6-8662-6cdcc286c3f1",
   "metadata": {},
   "outputs": [
    {
     "data": {
      "text/html": [
       "<div>\n",
       "<style scoped>\n",
       "    .dataframe tbody tr th:only-of-type {\n",
       "        vertical-align: middle;\n",
       "    }\n",
       "\n",
       "    .dataframe tbody tr th {\n",
       "        vertical-align: top;\n",
       "    }\n",
       "\n",
       "    .dataframe thead th {\n",
       "        text-align: right;\n",
       "    }\n",
       "</style>\n",
       "<table border=\"1\" class=\"dataframe\">\n",
       "  <thead>\n",
       "    <tr style=\"text-align: right;\">\n",
       "      <th></th>\n",
       "      <th>Invoice ID</th>\n",
       "      <th>Branch</th>\n",
       "      <th>City</th>\n",
       "      <th>Customer type</th>\n",
       "      <th>Gender</th>\n",
       "      <th>Product line</th>\n",
       "      <th>Unit price</th>\n",
       "      <th>Quantity</th>\n",
       "      <th>Tax 5%</th>\n",
       "      <th>Total</th>\n",
       "      <th>Date</th>\n",
       "      <th>Time</th>\n",
       "      <th>Payment</th>\n",
       "      <th>cogs</th>\n",
       "      <th>gross margin percentage</th>\n",
       "      <th>gross income</th>\n",
       "      <th>Rating</th>\n",
       "      <th>Month</th>\n",
       "      <th>Week</th>\n",
       "    </tr>\n",
       "  </thead>\n",
       "  <tbody>\n",
       "    <tr>\n",
       "      <th>0</th>\n",
       "      <td>750-67-8428</td>\n",
       "      <td>A</td>\n",
       "      <td>Yangon</td>\n",
       "      <td>Member</td>\n",
       "      <td>0</td>\n",
       "      <td>hb</td>\n",
       "      <td>74.69</td>\n",
       "      <td>7</td>\n",
       "      <td>26.1415</td>\n",
       "      <td>548.9715</td>\n",
       "      <td>1/5/2019</td>\n",
       "      <td>13:08</td>\n",
       "      <td>Ewallet</td>\n",
       "      <td>522.83</td>\n",
       "      <td>4.761905</td>\n",
       "      <td>26.1415</td>\n",
       "      <td>9.1</td>\n",
       "      <td>1</td>\n",
       "      <td>0</td>\n",
       "    </tr>\n",
       "    <tr>\n",
       "      <th>1</th>\n",
       "      <td>226-31-3081</td>\n",
       "      <td>C</td>\n",
       "      <td>Naypyitaw</td>\n",
       "      <td>Normal</td>\n",
       "      <td>0</td>\n",
       "      <td>ea</td>\n",
       "      <td>15.28</td>\n",
       "      <td>5</td>\n",
       "      <td>3.8200</td>\n",
       "      <td>80.2200</td>\n",
       "      <td>3/8/2019</td>\n",
       "      <td>10:29</td>\n",
       "      <td>Cash</td>\n",
       "      <td>76.40</td>\n",
       "      <td>4.761905</td>\n",
       "      <td>3.8200</td>\n",
       "      <td>9.6</td>\n",
       "      <td>3</td>\n",
       "      <td>9</td>\n",
       "    </tr>\n",
       "    <tr>\n",
       "      <th>2</th>\n",
       "      <td>631-41-3108</td>\n",
       "      <td>A</td>\n",
       "      <td>Yangon</td>\n",
       "      <td>Normal</td>\n",
       "      <td>1</td>\n",
       "      <td>hl</td>\n",
       "      <td>46.33</td>\n",
       "      <td>7</td>\n",
       "      <td>16.2155</td>\n",
       "      <td>340.5255</td>\n",
       "      <td>3/3/2019</td>\n",
       "      <td>13:23</td>\n",
       "      <td>Credit card</td>\n",
       "      <td>324.31</td>\n",
       "      <td>4.761905</td>\n",
       "      <td>16.2155</td>\n",
       "      <td>7.4</td>\n",
       "      <td>3</td>\n",
       "      <td>8</td>\n",
       "    </tr>\n",
       "    <tr>\n",
       "      <th>3</th>\n",
       "      <td>123-19-1176</td>\n",
       "      <td>A</td>\n",
       "      <td>Yangon</td>\n",
       "      <td>Member</td>\n",
       "      <td>1</td>\n",
       "      <td>hb</td>\n",
       "      <td>58.22</td>\n",
       "      <td>8</td>\n",
       "      <td>23.2880</td>\n",
       "      <td>489.0480</td>\n",
       "      <td>1/27/2019</td>\n",
       "      <td>20:33</td>\n",
       "      <td>Ewallet</td>\n",
       "      <td>465.76</td>\n",
       "      <td>4.761905</td>\n",
       "      <td>23.2880</td>\n",
       "      <td>8.4</td>\n",
       "      <td>1</td>\n",
       "      <td>3</td>\n",
       "    </tr>\n",
       "    <tr>\n",
       "      <th>4</th>\n",
       "      <td>373-73-7910</td>\n",
       "      <td>A</td>\n",
       "      <td>Yangon</td>\n",
       "      <td>Normal</td>\n",
       "      <td>1</td>\n",
       "      <td>st</td>\n",
       "      <td>86.31</td>\n",
       "      <td>7</td>\n",
       "      <td>30.2085</td>\n",
       "      <td>634.3785</td>\n",
       "      <td>2/8/2019</td>\n",
       "      <td>10:37</td>\n",
       "      <td>Ewallet</td>\n",
       "      <td>604.17</td>\n",
       "      <td>4.761905</td>\n",
       "      <td>30.2085</td>\n",
       "      <td>5.3</td>\n",
       "      <td>2</td>\n",
       "      <td>5</td>\n",
       "    </tr>\n",
       "  </tbody>\n",
       "</table>\n",
       "</div>"
      ],
      "text/plain": [
       "    Invoice ID Branch       City Customer type Gender Product line  \\\n",
       "0  750-67-8428      A     Yangon        Member      0           hb   \n",
       "1  226-31-3081      C  Naypyitaw        Normal      0           ea   \n",
       "2  631-41-3108      A     Yangon        Normal      1           hl   \n",
       "3  123-19-1176      A     Yangon        Member      1           hb   \n",
       "4  373-73-7910      A     Yangon        Normal      1           st   \n",
       "\n",
       "   Unit price  Quantity   Tax 5%     Total       Date   Time      Payment  \\\n",
       "0       74.69         7  26.1415  548.9715   1/5/2019  13:08      Ewallet   \n",
       "1       15.28         5   3.8200   80.2200   3/8/2019  10:29         Cash   \n",
       "2       46.33         7  16.2155  340.5255   3/3/2019  13:23  Credit card   \n",
       "3       58.22         8  23.2880  489.0480  1/27/2019  20:33      Ewallet   \n",
       "4       86.31         7  30.2085  634.3785   2/8/2019  10:37      Ewallet   \n",
       "\n",
       "     cogs  gross margin percentage  gross income  Rating  Month  Week  \n",
       "0  522.83                 4.761905       26.1415     9.1      1     0  \n",
       "1   76.40                 4.761905        3.8200     9.6      3     9  \n",
       "2  324.31                 4.761905       16.2155     7.4      3     8  \n",
       "3  465.76                 4.761905       23.2880     8.4      1     3  \n",
       "4  604.17                 4.761905       30.2085     5.3      2     5  "
      ]
     },
     "execution_count": 20,
     "metadata": {},
     "output_type": "execute_result"
    }
   ],
   "source": [
    "sales.loc[sales['Gender']=='Male','Gender']=1\n",
    "sales.loc[sales['Gender']=='Female','Gender']=0\n",
    "sales.head()"
   ]
  },
  {
   "cell_type": "code",
   "execution_count": 32,
   "id": "72378873-f1da-40ba-8199-eb9702eb1974",
   "metadata": {},
   "outputs": [
    {
     "name": "stdout",
     "output_type": "stream",
     "text": [
      "501\n",
      "499\n"
     ]
    }
   ],
   "source": [
    "print(len(sales.loc[sales['Gender']==0]))\n",
    "print(len(sales.loc[sales['Gender']==1]))"
   ]
  },
  {
   "cell_type": "code",
   "execution_count": 22,
   "id": "5641cb59-4980-4e70-8d5d-437db9ce157c",
   "metadata": {},
   "outputs": [],
   "source": [
    "product_lines=sales['Product line'].unique()"
   ]
  },
  {
   "cell_type": "code",
   "execution_count": 35,
   "id": "bc79cfd1-ad68-4ae9-a336-125385137314",
   "metadata": {},
   "outputs": [
    {
     "name": "stdout",
     "output_type": "stream",
     "text": [
      "[88, 86, 81, 78, 84, 82]\n"
     ]
    }
   ],
   "source": [
    "male_product_sales=[0,0,0,0,0,0]\n",
    "ind=0\n",
    "\n",
    "for product in product_lines:\n",
    "    male_product_sales[ind]=len((sales.loc[(sales['Gender']==1) & (sales['Product line']==product)]))\n",
    "    ind +=1\n",
    "print(male_product_sales)"
   ]
  },
  {
   "cell_type": "code",
   "execution_count": 37,
   "id": "14e4457e-1764-4ab4-9c63-82b27c623af4",
   "metadata": {},
   "outputs": [
    {
     "name": "stdout",
     "output_type": "stream",
     "text": [
      "[64, 84, 79, 88, 90, 96]\n"
     ]
    }
   ],
   "source": [
    "female_product_sales=[0,0,0,0,0,0]\n",
    "ind=0\n",
    "\n",
    "for product in product_lines:\n",
    "    female_product_sales[ind]=len((sales.loc[(sales['Gender']==0) & (sales['Product line']==product)]))\n",
    "    ind +=1\n",
    "print(female_product_sales)"
   ]
  },
  {
   "cell_type": "markdown",
   "id": "84fed0e3-c8e6-4b67-9aec-45ffab99a768",
   "metadata": {},
   "source": [
    "#### Relationship between Genders and product lines individual sales"
   ]
  },
  {
   "cell_type": "code",
   "execution_count": 42,
   "id": "5d39227e-52e2-417d-af5f-ca0832498d7c",
   "metadata": {},
   "outputs": [
    {
     "data": {
      "image/png": "[encoded data removed]",
      "text/plain": [
       "<Figure size 640x480 with 1 Axes>"
      ]
     },
     "metadata": {},
     "output_type": "display_data"
    }
   ],
   "source": [
    "X_axis=np.arange(len(product_lines))\n",
    "plt.bar(X_axis-0.2, male_product_sales, 0.4, label = 'Male sales')\n",
    "plt.bar(X_axis+0.2,female_product_sales,0.4,label='Female sales')\n",
    "plt.xticks(X_axis,product_lines)\n",
    "plt.xlabel('Product lines')\n",
    "plt.ylabel('Number of sales')\n",
    "plt.legend()\n",
    "plt.show()"
   ]
  },
  {
   "cell_type": "markdown",
   "id": "792a1771-57cb-4056-a5aa-f81347a6f7d0",
   "metadata": {},
   "source": [
    "The largest difference between genders, is the health and beauty product line, where Male customers have about 25 more sales, "
   ]
  },
  {
   "cell_type": "markdown",
   "id": "a61e10a1-3b54-4ae7-bddd-388a7c76d7e6",
   "metadata": {},
   "source": [
    "#### Gender sales and gross income"
   ]
  },
  {
   "cell_type": "code",
   "execution_count": 46,
   "id": "b27f2154-0aca-4991-a633-14871a9fb999",
   "metadata": {},
   "outputs": [],
   "source": [
    "male_product_income=[0,0,0,0,0,0]\n",
    "female_product_income=[0,0,0,0,0,0]\n",
    "ind=0\n",
    "for product in product_lines:\n",
    "    male_product_income[ind]=sales.loc[(sales['Gender']==1) & (sales['Product line']==product)]['gross income'].sum()\n",
    "    ind+=1\n",
    "ind=0\n",
    "for product in product_lines:\n",
    "    female_product_income[ind]=sales.loc[(sales['Gender']==0) & (sales['Product line']==product)]['gross income'].sum()\n",
    "    ind+=1"
   ]
  },
  {
   "cell_type": "code",
   "execution_count": 47,
   "id": "1c2e92a3-5f7a-428a-bdae-8ca83687d882",
   "metadata": {},
   "outputs": [
    {
     "data": {
      "image/png": "[encoded data removed]",
      "text/plain": [
       "<Figure size 640x480 with 1 Axes>"
      ]
     },
     "metadata": {},
     "output_type": "display_data"
    }
   ],
   "source": [
    "X_axis=np.arange(len(product_lines))\n",
    "plt.bar(X_axis-0.2, male_product_income, 0.4, label = 'Male income')\n",
    "plt.bar(X_axis+0.2,female_product_income,0.4,label='Female income')\n",
    "plt.xticks(X_axis,product_lines)\n",
    "plt.xlabel('Product lines')\n",
    "plt.ylabel('Gross income')\n",
    "plt.legend()\n",
    "plt.show()"
   ]
  },
  {
   "cell_type": "markdown",
   "id": "72a99832-7235-4ad0-9506-27841da44551",
   "metadata": {},
   "source": [
    "Health and beauty products have a significant difference still between male and female customers however, the rest of the product lines have female customers having a much higher gross income, which is surprising due to the relativly equal sales between each group."
   ]
  },
  {
   "cell_type": "code",
   "execution_count": 66,
   "id": "c47864a1-6008-4b48-bcba-a32d416c0670",
   "metadata": {},
   "outputs": [
    {
     "name": "stdout",
     "output_type": "stream",
     "text": [
      "[511, 483, 413, 424, 438, 372]\n",
      "[343, 488, 498, 496, 514, 530]\n"
     ]
    }
   ],
   "source": [
    "male_product_quantity=[0,0,0,0,0,0]\n",
    "female_product_quantity=[0,0,0,0,0,0]\n",
    "ind=0\n",
    "for product in product_lines:\n",
    "    male_product_quantity[ind]=sales.loc[(sales['Gender']==1) & (sales['Product line']==product)]['Quantity'].sum()\n",
    "    ind+=1\n",
    "ind=0\n",
    "for product in product_lines:\n",
    "    female_product_quantity[ind]=sales.loc[(sales['Gender']==0) & (sales['Product line']==product)]['Quantity'].sum()\n",
    "    ind+=1\n",
    "print(male_product_quantity)\n",
    "print(female_product_quantity)"
   ]
  },
  {
   "cell_type": "code",
   "execution_count": 49,
   "id": "1e67987a-9cc6-4e61-ab4e-2902b740d232",
   "metadata": {},
   "outputs": [
    {
     "data": {
      "image/png": "[encoded data removed]",
      "text/plain": [
       "<Figure size 640x480 with 1 Axes>"
      ]
     },
     "metadata": {},
     "output_type": "display_data"
    }
   ],
   "source": [
    "X_axis=np.arange(len(product_lines))\n",
    "plt.bar(X_axis-0.2, male_product_quantity, 0.4, label = 'Male Quantity')\n",
    "plt.bar(X_axis+0.2,female_product_quantity,0.4,label='Female Quantity')\n",
    "plt.xticks(X_axis,product_lines)\n",
    "plt.xlabel('Product lines')\n",
    "plt.ylabel('Total quantity')\n",
    "plt.legend()\n",
    "plt.show()"
   ]
  },
  {
   "cell_type": "markdown",
   "id": "43bb090d-47c1-424e-8355-48a095e6ba2d",
   "metadata": {},
   "source": [
    "This makes more sense comparing to the two graphs shown above, and proves that female customers buy a higher quantity of products per sale compared to male customers, besides health and beauty products."
   ]
  },
  {
   "cell_type": "markdown",
   "id": "96f7a85e-2766-41cd-ac0f-256be9cb9eaa",
   "metadata": {},
   "source": [
    "#### Health and beauty products and each branch"
   ]
  },
  {
   "cell_type": "code",
   "execution_count": 69,
   "id": "8e8cd170-8622-4445-a661-5b96671cb46b",
   "metadata": {},
   "outputs": [],
   "source": [
    "male_hb_branch=[0,0,0]\n",
    "female_hb_branch=[0,0,0]\n",
    "ind=0\n",
    "for branch in branch_list:\n",
    "    male_hb_branch[ind]=sales.loc[(sales['Gender']==1) & (sales['Product line']=='hb')&(sales['Branch']==branch)]['gross income'].sum()\n",
    "    ind+=1\n",
    "ind=0\n",
    "for branch in branch_list:\n",
    "    female_hb_branch[ind]=sales.loc[(sales['Gender']==0) & (sales['Product line']=='hb')&(sales['Branch']==branch)]['gross income'].sum()\n",
    "    ind+=1"
   ]
  },
  {
   "cell_type": "code",
   "execution_count": 70,
   "id": "4cdb3ee0-3cb2-4e50-b8e6-096d3e74077e",
   "metadata": {},
   "outputs": [
    {
     "data": {
      "image/png": "[encoded data removed]",
      "text/plain": [
       "<Figure size 640x480 with 1 Axes>"
      ]
     },
     "metadata": {},
     "output_type": "display_data"
    }
   ],
   "source": [
    "X_axis=np.arange(len(branch_list))\n",
    "plt.bar(X_axis-0.2, male_hb_branch, 0.4, label = 'Male income')\n",
    "plt.bar(X_axis+0.2,female_hb_branch,0.4,label='Female income')\n",
    "plt.xticks(X_axis,branch_list)\n",
    "plt.xlabel('branches')\n",
    "plt.ylabel('Health and beauty income')\n",
    "plt.legend()\n",
    "plt.show()"
   ]
  },
  {
   "cell_type": "markdown",
   "id": "4faacf9b-98c7-4ce0-a7d7-f8439a644cc0",
   "metadata": {},
   "source": [
    "The female customer income for health and beauty products is the same across all of the branches, but branch b and c have a much higher income for male customers for health and beauty product lines.  Further data on those branches will be necessary to determine why this is the case."
   ]
  },
  {
   "cell_type": "markdown",
   "id": "e87b3932-176f-4b6c-a0cb-8d5851706a41",
   "metadata": {},
   "source": [
    "#### Member vs regular sales"
   ]
  },
  {
   "cell_type": "code",
   "execution_count": 83,
   "id": "5129fa68-a77b-4528-b8c5-8a458646db99",
   "metadata": {},
   "outputs": [
    {
     "name": "stdout",
     "output_type": "stream",
     "text": [
      "501 499\n"
     ]
    }
   ],
   "source": [
    "member_sales_total=len(sales.loc[sales['Customer type']=='Member'])\n",
    "regular_sales_Total=len(sales.loc[sales['Customer type']=='Normal'])\n",
    "print(member_sales_total,regular_sales_Total)"
   ]
  },
  {
   "cell_type": "markdown",
   "id": "73ed3c86-00fb-41d0-8482-e2a8bce29a3c",
   "metadata": {},
   "source": [
    "Even number of sales for both customer types"
   ]
  },
  {
   "cell_type": "code",
   "execution_count": 89,
   "id": "969027b6-b385-49a2-9d9f-b0435f0b7d2a",
   "metadata": {},
   "outputs": [],
   "source": [
    "member_product_profit=[0,0,0,0,0,0]\n",
    "regular_product_profit=[0,0,0,0,0,0]\n",
    "ind=0\n",
    "for prod in product_lines:\n",
    "    member_product_profit[ind]=sales.loc[(sales['Customer type']=='Member')&(sales['Product line']==prod)]['gross income'].sum()\n",
    "    ind+=1\n",
    "ind=0\n",
    "for prod in product_lines:\n",
    "    regular_product_profit[ind]=sales.loc[(sales['Customer type']=='Normal')&(sales['Product line']==prod)]['gross income'].sum()\n",
    "    ind+=1"
   ]
  },
  {
   "cell_type": "code",
   "execution_count": 90,
   "id": "cd7ce8a7-d43e-4c83-a3fb-ff2c4061852f",
   "metadata": {},
   "outputs": [
    {
     "data": {
      "image/png": "[encoded data removed]",
      "text/plain": [
       "<Figure size 640x480 with 1 Axes>"
      ]
     },
     "metadata": {},
     "output_type": "display_data"
    }
   ],
   "source": [
    "X_axis=np.arange(len(product_lines))\n",
    "plt.bar(X_axis-0.2, member_product_profit, 0.4, label = 'Member income')\n",
    "plt.bar(X_axis+0.2,regular_product_profit,0.4,label='Normal income')\n",
    "plt.xticks(X_axis,product_lines)\n",
    "plt.xlabel('Product lines')\n",
    "plt.ylabel('Income')\n",
    "plt.legend()\n",
    "plt.show()"
   ]
  },
  {
   "cell_type": "markdown",
   "id": "4f6f154d-6871-4b99-9437-fbc179eafd0d",
   "metadata": {},
   "source": [
    "Member income is higher for Food and beverages compared to the rest of the product lines, and the normal customers result in a higher income for electronic accesories and fashion accessories compared to member income."
   ]
  },
  {
   "cell_type": "code",
   "execution_count": null,
   "id": "ed656c98-91e0-4afd-98f3-32a5640cbc17",
   "metadata": {},
   "outputs": [],
   "source": []
  }
 ],
 "metadata": {
  "kernelspec": {
   "display_name": "Python 3 (ipykernel)",
   "language": "python",
   "name": "python3"
  },
  "language_info": {
   "codemirror_mode": {
    "name": "ipython",
    "version": 3
   },
   "file_extension": ".py",
   "mimetype": "text/x-python",
   "name": "python",
   "nbconvert_exporter": "python",
   "pygments_lexer": "ipython3",
   "version": "3.11.7"
  }
 },
 "nbformat": 4,
 "nbformat_minor": 5
}
